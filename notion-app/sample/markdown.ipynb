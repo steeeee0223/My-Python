{
 "cells": [
  {
   "cell_type": "markdown",
   "metadata": {},
   "source": [
    "## Test Jupyter Notebook\n"
   ]
  },
  {
   "cell_type": "code",
   "execution_count": null,
   "metadata": {},
   "outputs": [],
   "source": [
    "import numpy as np\n",
    "import matplotlib.pyplot as plt\n",
    "import pandas as pd\n",
    "dataset = pd.read_csv('Social_Network_Ads.csv')\n",
    "\n",
    "X = dataset.iloc[:, :-1].values\n",
    "y = dataset.iloc[:, -1].values"
   ]
  },
  {
   "cell_type": "code",
   "execution_count": 1,
   "metadata": {},
   "outputs": [
    {
     "name": "stdout",
     "output_type": "stream",
     "text": [
      "Hello!\n"
     ]
    }
   ],
   "source": [
    "print('Hello!')"
   ]
  },
  {
   "cell_type": "markdown",
   "metadata": {},
   "source": [
    "# HackMD note \n",
    "\n",
    "###### tags: `Tag(change me!)`\n",
    "\n",
    "> This note is yours, feel free to play around.  :video_game: \n",
    "> Type on the left :arrow_left: and see the rendered result on the right. :arrow_right: \n",
    "\n",
    "## :memo Where do I start?\n",
    "\n",
    "---\n",
    "\n",
    "### Step 1: Change the title and add a tag\n",
    "\n",
    "- [x] Create my first HackMD note (this one!)\n",
    "- [ ] Change its title\n",
    "- [ ] Add a tag\n",
    "- [ ] Add a check box\n",
    "\n",
    "#### Numbered List\n",
    "1. first\n",
    "2. second\n",
    "3. else.....\n",
    "   1. else 1\n",
    "   2. else 2 \n",
    "      1. something1\n",
    "      2. something2\n",
    "\n",
    ":rocket: \n",
    "\n",
    "### Step 2: Write something in Markdown\n",
    "\n",
    "Let's try it out!\n",
    "Apply different styling to this paragraph:\n",
    "*Write something in Italic.*\n",
    "**HackMD gets everyone on the same page with Markdown.** ==Real-time collaborate on any documentation in markdown.== Capture fleeting ideas and formalize tribal knowledge.\n",
    "\n",
    "- [x] **Bold**\n",
    "- [ ] *Italic*\n",
    "- [ ] Super^script^\n",
    "- [ ] Sub~script~\n",
    "- [ ] ~~Crossed~~\n",
    "- [x] ==Highlight==\n",
    "\n",
    "[[page1|page2]]]\n",
    "\n",
    ".. warning::\n",
    "\n",
    "   You are looking at the **dev** documentation.\n",
    "\n",
    ":::info\n",
    ":bulb: **Hint:** You can also apply styling from the toolbar at the top :arrow_upper_left: of the editing area.\n",
    ":::\n",
    "\n",
    "> Drag-n-drop image from your file system to the editor to paste it!\n",
    "\n",
    "### Step 3: Invite your team to collaborate!\n",
    "\n",
    "Click on the <i class=\"fa fa-share-alt\"></i> **Sharing** menu :arrow_upper_right: and invite your team to collaborate on this note!\n",
    "\n",
    "\n",
    "\n",
    "- Register and sign-in to HackMD (to use advanced features :tada: ) \n",
    "   1. Step 1\n",
    "   2. Step 2\n",
    "- Set Permalink for this note\n",
    "- Copy and share the link with your team\n",
    "\n",
    ":::info\n",
    ":pushpin: Want to learn more? ➜ [HackMD Tutorials](https://hackmd.io/c/tutorials) \n",
    ":::\n",
    "\n",
    "---\n",
    "\n",
    "## BONUS: More cool ways to HackMD!\n",
    "\n",
    "- Table\n",
    ":::info\n",
    "| Features          | Tutorials               |\n",
    "| ----------------- |:----------------------- |\n",
    "| GitHub Sync       | ABC     |\n",
    "| Browser Extension | ABC     |\n",
    "| Book Mode         | ABC     |\n",
    "| Slide Mode        | ABC     | \n",
    "| Share & Publish   | ABC     |\n",
    ":::\n",
    "\n",
    "- Table\n",
    "\n",
    "| Features          | Tutorials               |\n",
    "| ----------------- |:----------------------- |\n",
    "| GitHub Sync       | [:link:][GitHub-Sync]   |\n",
    "| Browser Extension | [:link:][HackMD-it]     |\n",
    "| Book Mode         | [:link:][Book-mode]     |\n",
    "| Slide Mode        | [:link:][Slide-mode]    | \n",
    "| Share & Publish   | [:link:][Share-Publish] |\n",
    "\n",
    "[GitHub-Sync]: https://hackmd.io/c/tutorials/%2Fs%2Flink-with-github\n",
    "[HackMD-it]: https://hackmd.io/c/tutorials/%2Fs%2Fhackmd-it\n",
    "[Book-mode]: https://hackmd.io/c/tutorials/%2Fs%2Fhow-to-create-book\n",
    "[Slide-mode]: https://hackmd.io/c/tutorials/%2Fs%2Fhow-to-create-slide-deck\n",
    "[Share-Publish]: https://hackmd.io/c/tutorials/%2Fs%2Fhow-to-publish-note\n",
    "\n",
    "- Type some theorem using LaTeX \n",
    ":::info\n",
    "**Theorem.** Let $F$ be a field and.\n",
    ":::\n",
    "> [name=喻世文] field 是一個代數基本知識\n",
    "\n",
    "\n",
    "- Code block with color and line numbers：\n",
    "```javascript=16\n",
    "var s = \"JavaScript syntax highlighting\";\n",
    "alert(s);\n",
    "```\n",
    "\n",
    "- Auto-generated Table of Content\n",
    "[ToC]\n",
    "\n",
    "\n"
   ]
  },
  {
   "cell_type": "code",
   "execution_count": null,
   "metadata": {},
   "outputs": [],
   "source": []
  }
 ],
 "metadata": {
  "kernelspec": {
   "display_name": "Python 3 (ipykernel)",
   "language": "python",
   "name": "python3"
  },
  "language_info": {
   "codemirror_mode": {
    "name": "ipython",
    "version": 3
   },
   "file_extension": ".py",
   "mimetype": "text/x-python",
   "name": "python",
   "nbconvert_exporter": "python",
   "pygments_lexer": "ipython3",
   "version": "3.10.4"
  },
  "vscode": {
   "interpreter": {
    "hash": "949777d72b0d2535278d3dc13498b2535136f6dfe0678499012e853ee9abcab1"
   }
  }
 },
 "nbformat": 4,
 "nbformat_minor": 2
}
